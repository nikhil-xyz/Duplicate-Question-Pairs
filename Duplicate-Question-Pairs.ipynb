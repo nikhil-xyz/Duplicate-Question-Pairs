{
 "cells": [
  {
   "cell_type": "code",
   "execution_count": 22,
   "id": "45d00372",
   "metadata": {},
   "outputs": [],
   "source": [
    "import pandas as pd\n",
    "import numpy as np\n",
    "from bs4 import BeautifulSoup\n",
    "import re"
   ]
  },
  {
   "cell_type": "code",
   "execution_count": 23,
   "id": "b4f7d889",
   "metadata": {},
   "outputs": [],
   "source": [
    "df = pd.read_csv('train.csv')"
   ]
  },
  {
   "cell_type": "code",
   "execution_count": 24,
   "id": "a638e8aa",
   "metadata": {},
   "outputs": [],
   "source": [
    "que_df = df.sample(30000)"
   ]
  },
  {
   "cell_type": "code",
   "execution_count": 25,
   "id": "996f58eb",
   "metadata": {},
   "outputs": [],
   "source": [
    "df.dropna(inplace=True)"
   ]
  },
  {
   "cell_type": "code",
   "execution_count": 26,
   "id": "12b40591",
   "metadata": {},
   "outputs": [],
   "source": [
    "y = que_df['is_duplicate']"
   ]
  },
  {
   "cell_type": "code",
   "execution_count": null,
   "id": "ff0aa220",
   "metadata": {},
   "outputs": [],
   "source": []
  },
  {
   "cell_type": "code",
   "execution_count": 27,
   "id": "9639f267",
   "metadata": {},
   "outputs": [
    {
     "data": {
      "text/plain": [
       "id              0\n",
       "qid1            0\n",
       "qid2            0\n",
       "question1       0\n",
       "question2       0\n",
       "is_duplicate    0\n",
       "dtype: int64"
      ]
     },
     "execution_count": 27,
     "metadata": {},
     "output_type": "execute_result"
    }
   ],
   "source": [
    "df.isnull().sum()"
   ]
  },
  {
   "cell_type": "code",
   "execution_count": 28,
   "id": "6257aaca",
   "metadata": {},
   "outputs": [],
   "source": [
    "que_df = que_df[['question1', 'question2']]"
   ]
  },
  {
   "cell_type": "code",
   "execution_count": 29,
   "id": "65c2d912",
   "metadata": {},
   "outputs": [],
   "source": [
    "def preprocess(q):\n",
    "  q = str(q).lower().strip()\n",
    "\n",
    "  q = q.replace('%', ' percent')\n",
    "  q = q.replace('$', ' dollar ')\n",
    "  q = q.replace('₹', ' rupee ')\n",
    "  q = q.replace('€', ' euro ')\n",
    "  q = q.replace('@', ' at ')\n",
    "\n",
    "  contractions = { \n",
    "    \"ain't\": \"am not\",\n",
    "    \"aren't\": \"are not\",\n",
    "    \"can't\": \"can not\",\n",
    "    \"can't've\": \"can not have\",\n",
    "    \"'cause\": \"because\",\n",
    "    \"could've\": \"could have\",\n",
    "    \"couldn't\": \"could not\",\n",
    "    \"couldn't've\": \"could not have\",\n",
    "    \"didn't\": \"did not\",\n",
    "    \"doesn't\": \"does not\",\n",
    "    \"don't\": \"do not\",\n",
    "    \"hadn't\": \"had not\",\n",
    "    \"hadn't've\": \"had not have\",\n",
    "    \"hasn't\": \"has not\",\n",
    "    \"haven't\": \"have not\",\n",
    "    \"he'd\": \"he would\",\n",
    "    \"he'd've\": \"he would have\",\n",
    "    \"he'll\": \"he will\",\n",
    "    \"he'll've\": \"he will have\",\n",
    "    \"he's\": \"he is\",\n",
    "    \"how'd\": \"how did\",\n",
    "    \"how'd'y\": \"how do you\",\n",
    "    \"how'll\": \"how will\",\n",
    "    \"how's\": \"how is\",\n",
    "    \"i'd\": \"i would\",\n",
    "    \"i'd've\": \"i would have\",\n",
    "    \"i'll\": \"i will\",\n",
    "    \"i'll've\": \"i will have\",\n",
    "    \"i'm\": \"i am\",\n",
    "    \"i've\": \"i have\",\n",
    "    \"isn't\": \"is not\",\n",
    "    \"it'd\": \"it would\",\n",
    "    \"it'd've\": \"it would have\",\n",
    "    \"it'll\": \"it will\",\n",
    "    \"it'll've\": \"it will have\",\n",
    "    \"it's\": \"it is\",\n",
    "    \"let's\": \"let us\",\n",
    "    \"ma'am\": \"madam\",\n",
    "    \"mayn't\": \"may not\",\n",
    "    \"might've\": \"might have\",\n",
    "    \"mightn't\": \"might not\",\n",
    "    \"mightn't've\": \"might not have\",\n",
    "    \"must've\": \"must have\",\n",
    "    \"mustn't\": \"must not\",\n",
    "    \"mustn't've\": \"must not have\",\n",
    "    \"needn't\": \"need not\",\n",
    "    \"needn't've\": \"need not have\",\n",
    "    \"o'clock\": \"of the clock\",\n",
    "    \"oughtn't\": \"ought not\",\n",
    "    \"oughtn't've\": \"ought not have\",\n",
    "    \"shan't\": \"shall not\",\n",
    "    \"sha'n't\": \"shall not\",\n",
    "    \"shan't've\": \"shall not have\",\n",
    "    \"she'd\": \"she would\",\n",
    "    \"she'd've\": \"she would have\",\n",
    "    \"she'll\": \"she will\",\n",
    "    \"she'll've\": \"she will have\",\n",
    "    \"she's\": \"she is\",\n",
    "    \"should've\": \"should have\",\n",
    "    \"shouldn't\": \"should not\",\n",
    "    \"shouldn't've\": \"should not have\",\n",
    "    \"so've\": \"so have\",\n",
    "    \"so's\": \"so as\",\n",
    "    \"that'd\": \"that would\",\n",
    "    \"that'd've\": \"that would have\",\n",
    "    \"that's\": \"that is\",\n",
    "    \"there'd\": \"there would\",\n",
    "    \"there'd've\": \"there would have\",\n",
    "    \"there's\": \"there is\",\n",
    "    \"they'd\": \"they would\",\n",
    "    \"they'd've\": \"they would have\",\n",
    "    \"they'll\": \"they will\",\n",
    "    \"they'll've\": \"they will have\",\n",
    "    \"they're\": \"they are\",\n",
    "    \"they've\": \"they have\",\n",
    "    \"to've\": \"to have\",\n",
    "    \"wasn't\": \"was not\",\n",
    "    \"we'd\": \"we would\",\n",
    "    \"we'd've\": \"we would have\",\n",
    "    \"we'll\": \"we will\",\n",
    "    \"we'll've\": \"we will have\",\n",
    "    \"we're\": \"we are\",\n",
    "    \"we've\": \"we have\",\n",
    "    \"weren't\": \"were not\",\n",
    "    \"what'll\": \"what will\",\n",
    "    \"what'll've\": \"what will have\",\n",
    "    \"what're\": \"what are\",\n",
    "    \"what's\": \"what is\",\n",
    "    \"what've\": \"what have\",\n",
    "    \"when's\": \"when is\",\n",
    "    \"when've\": \"when have\",\n",
    "    \"where'd\": \"where did\",\n",
    "    \"where's\": \"where is\",\n",
    "    \"where've\": \"where have\",\n",
    "    \"who'll\": \"who will\",\n",
    "    \"who'll've\": \"who will have\",\n",
    "    \"who's\": \"who is\",\n",
    "    \"who've\": \"who have\",\n",
    "    \"why's\": \"why is\",\n",
    "    \"why've\": \"why have\",\n",
    "    \"will've\": \"will have\",\n",
    "    \"won't\": \"will not\",\n",
    "    \"won't've\": \"will not have\",\n",
    "    \"would've\": \"would have\",\n",
    "    \"wouldn't\": \"would not\",\n",
    "    \"wouldn't've\": \"would not have\",\n",
    "    \"y'all\": \"you all\",\n",
    "    \"y'all'd\": \"you all would\",\n",
    "    \"y'all'd've\": \"you all would have\",\n",
    "    \"y'all're\": \"you all are\",\n",
    "    \"y'all've\": \"you all have\",\n",
    "    \"you'd\": \"you would\",\n",
    "    \"you'd've\": \"you would have\",\n",
    "    \"you'll\": \"you will\",\n",
    "    \"you'll've\": \"you will have\",\n",
    "    \"you're\": \"you are\",\n",
    "    \"you've\": \"you have\"\n",
    "    }\n",
    "\n",
    "  q_decontracted = []\n",
    "\n",
    "  for word in q.split():\n",
    "      if word in contractions:\n",
    "          word = contractions[word]\n",
    "\n",
    "      q_decontracted.append(word)\n",
    "\n",
    "  q = ' '.join(q_decontracted)\n",
    "  q = q.replace(\"'ve\", \" have\")\n",
    "  q = q.replace(\"n't\", \" not\")\n",
    "  q = q.replace(\"'re\", \" are\")\n",
    "  q = q.replace(\"'ll\", \" will\")\n",
    "  \n",
    "  # Removing HTML tags\n",
    "  q = BeautifulSoup(q)\n",
    "  q = q.get_text()\n",
    "  \n",
    "  # Remove punctuations\n",
    "  pattern = re.compile('\\W')\n",
    "  q = re.sub(pattern, ' ', q).strip()\n",
    "\n",
    "  \n",
    "  return q\n"
   ]
  },
  {
   "cell_type": "code",
   "execution_count": 30,
   "id": "487b0678",
   "metadata": {},
   "outputs": [
    {
     "data": {
      "text/plain": [
       "7"
      ]
     },
     "execution_count": 30,
     "metadata": {},
     "output_type": "execute_result"
    }
   ],
   "source": [
    "len(preprocess(\"<whar>do<you> want\"))"
   ]
  },
  {
   "cell_type": "code",
   "execution_count": 31,
   "id": "4a086d62",
   "metadata": {},
   "outputs": [],
   "source": [
    "que_df['question1'] = que_df['question1'].apply(preprocess)\n",
    "que_df['question2'] = que_df['question2'].apply(preprocess)"
   ]
  },
  {
   "cell_type": "code",
   "execution_count": 32,
   "id": "f624d5e4",
   "metadata": {},
   "outputs": [],
   "source": [
    "que_df['len1'] = que_df['question1'].str.len()\n",
    "que_df['len2'] = que_df['question2'].str.len()"
   ]
  },
  {
   "cell_type": "code",
   "execution_count": 33,
   "id": "a8db7d62",
   "metadata": {},
   "outputs": [
    {
     "data": {
      "text/html": [
       "<div>\n",
       "<style scoped>\n",
       "    .dataframe tbody tr th:only-of-type {\n",
       "        vertical-align: middle;\n",
       "    }\n",
       "\n",
       "    .dataframe tbody tr th {\n",
       "        vertical-align: top;\n",
       "    }\n",
       "\n",
       "    .dataframe thead th {\n",
       "        text-align: right;\n",
       "    }\n",
       "</style>\n",
       "<table border=\"1\" class=\"dataframe\">\n",
       "  <thead>\n",
       "    <tr style=\"text-align: right;\">\n",
       "      <th></th>\n",
       "      <th>question1</th>\n",
       "      <th>question2</th>\n",
       "      <th>len1</th>\n",
       "      <th>len2</th>\n",
       "      <th>word_cnt1</th>\n",
       "      <th>word_cnt2</th>\n",
       "    </tr>\n",
       "  </thead>\n",
       "  <tbody>\n",
       "    <tr>\n",
       "      <th>237544</th>\n",
       "      <td>what is screen resolution</td>\n",
       "      <td>what would be the  screen resolution  of a mirror</td>\n",
       "      <td>25</td>\n",
       "      <td>49</td>\n",
       "      <td>4</td>\n",
       "      <td>11</td>\n",
       "    </tr>\n",
       "    <tr>\n",
       "      <th>296630</th>\n",
       "      <td>what was the significance of the battle of som...</td>\n",
       "      <td>what was the significance of the battle of som...</td>\n",
       "      <td>121</td>\n",
       "      <td>119</td>\n",
       "      <td>23</td>\n",
       "      <td>23</td>\n",
       "    </tr>\n",
       "    <tr>\n",
       "      <th>372672</th>\n",
       "      <td>can a person with alzheimer disease participat...</td>\n",
       "      <td>can a person with alzheimer s disease particip...</td>\n",
       "      <td>65</td>\n",
       "      <td>69</td>\n",
       "      <td>10</td>\n",
       "      <td>12</td>\n",
       "    </tr>\n",
       "    <tr>\n",
       "      <th>187200</th>\n",
       "      <td>what is it like to live in an rv full time</td>\n",
       "      <td>what is it like to live in an rv and travel in it</td>\n",
       "      <td>42</td>\n",
       "      <td>49</td>\n",
       "      <td>11</td>\n",
       "      <td>13</td>\n",
       "    </tr>\n",
       "    <tr>\n",
       "      <th>218447</th>\n",
       "      <td>if one had 15 minutes to interview a successfu...</td>\n",
       "      <td>what are some good questions to ask an entrepr...</td>\n",
       "      <td>97</td>\n",
       "      <td>51</td>\n",
       "      <td>18</td>\n",
       "      <td>9</td>\n",
       "    </tr>\n",
       "  </tbody>\n",
       "</table>\n",
       "</div>"
      ],
      "text/plain": [
       "                                                question1  \\\n",
       "237544                          what is screen resolution   \n",
       "296630  what was the significance of the battle of som...   \n",
       "372672  can a person with alzheimer disease participat...   \n",
       "187200         what is it like to live in an rv full time   \n",
       "218447  if one had 15 minutes to interview a successfu...   \n",
       "\n",
       "                                                question2  len1  len2  \\\n",
       "237544  what would be the  screen resolution  of a mirror    25    49   \n",
       "296630  what was the significance of the battle of som...   121   119   \n",
       "372672  can a person with alzheimer s disease particip...    65    69   \n",
       "187200  what is it like to live in an rv and travel in it    42    49   \n",
       "218447  what are some good questions to ask an entrepr...    97    51   \n",
       "\n",
       "        word_cnt1  word_cnt2  \n",
       "237544          4         11  \n",
       "296630         23         23  \n",
       "372672         10         12  \n",
       "187200         11         13  \n",
       "218447         18          9  "
      ]
     },
     "execution_count": 33,
     "metadata": {},
     "output_type": "execute_result"
    }
   ],
   "source": [
    "que_df['word_cnt1'] = que_df['question1'].apply(lambda que : len(que.split(\" \"))) \n",
    "que_df['word_cnt2'] = que_df['question2'].apply(lambda que : len(que.split(\" \")))\n",
    "que_df.head()"
   ]
  },
  {
   "cell_type": "code",
   "execution_count": 34,
   "id": "1877363f",
   "metadata": {},
   "outputs": [],
   "source": [
    "def common_words(row):\n",
    "  w1 = set(map(lambda words : words.lower().strip(), row['question1'].split(\" \")))\n",
    "  w2 = set(map(lambda words : words.lower().strip(), row['question2'].split(\" \")))\n",
    "  return len(w1 & w2)"
   ]
  },
  {
   "cell_type": "code",
   "execution_count": 35,
   "id": "7ad82287",
   "metadata": {},
   "outputs": [
    {
     "data": {
      "text/html": [
       "<div>\n",
       "<style scoped>\n",
       "    .dataframe tbody tr th:only-of-type {\n",
       "        vertical-align: middle;\n",
       "    }\n",
       "\n",
       "    .dataframe tbody tr th {\n",
       "        vertical-align: top;\n",
       "    }\n",
       "\n",
       "    .dataframe thead th {\n",
       "        text-align: right;\n",
       "    }\n",
       "</style>\n",
       "<table border=\"1\" class=\"dataframe\">\n",
       "  <thead>\n",
       "    <tr style=\"text-align: right;\">\n",
       "      <th></th>\n",
       "      <th>question1</th>\n",
       "      <th>question2</th>\n",
       "      <th>len1</th>\n",
       "      <th>len2</th>\n",
       "      <th>word_cnt1</th>\n",
       "      <th>word_cnt2</th>\n",
       "      <th>common</th>\n",
       "    </tr>\n",
       "  </thead>\n",
       "  <tbody>\n",
       "    <tr>\n",
       "      <th>237544</th>\n",
       "      <td>what is screen resolution</td>\n",
       "      <td>what would be the  screen resolution  of a mirror</td>\n",
       "      <td>25</td>\n",
       "      <td>49</td>\n",
       "      <td>4</td>\n",
       "      <td>11</td>\n",
       "      <td>3</td>\n",
       "    </tr>\n",
       "    <tr>\n",
       "      <th>296630</th>\n",
       "      <td>what was the significance of the battle of som...</td>\n",
       "      <td>what was the significance of the battle of som...</td>\n",
       "      <td>121</td>\n",
       "      <td>119</td>\n",
       "      <td>23</td>\n",
       "      <td>23</td>\n",
       "      <td>15</td>\n",
       "    </tr>\n",
       "    <tr>\n",
       "      <th>372672</th>\n",
       "      <td>can a person with alzheimer disease participat...</td>\n",
       "      <td>can a person with alzheimer s disease particip...</td>\n",
       "      <td>65</td>\n",
       "      <td>69</td>\n",
       "      <td>10</td>\n",
       "      <td>12</td>\n",
       "      <td>10</td>\n",
       "    </tr>\n",
       "    <tr>\n",
       "      <th>187200</th>\n",
       "      <td>what is it like to live in an rv full time</td>\n",
       "      <td>what is it like to live in an rv and travel in it</td>\n",
       "      <td>42</td>\n",
       "      <td>49</td>\n",
       "      <td>11</td>\n",
       "      <td>13</td>\n",
       "      <td>9</td>\n",
       "    </tr>\n",
       "    <tr>\n",
       "      <th>218447</th>\n",
       "      <td>if one had 15 minutes to interview a successfu...</td>\n",
       "      <td>what are some good questions to ask an entrepr...</td>\n",
       "      <td>97</td>\n",
       "      <td>51</td>\n",
       "      <td>18</td>\n",
       "      <td>9</td>\n",
       "      <td>8</td>\n",
       "    </tr>\n",
       "  </tbody>\n",
       "</table>\n",
       "</div>"
      ],
      "text/plain": [
       "                                                question1  \\\n",
       "237544                          what is screen resolution   \n",
       "296630  what was the significance of the battle of som...   \n",
       "372672  can a person with alzheimer disease participat...   \n",
       "187200         what is it like to live in an rv full time   \n",
       "218447  if one had 15 minutes to interview a successfu...   \n",
       "\n",
       "                                                question2  len1  len2  \\\n",
       "237544  what would be the  screen resolution  of a mirror    25    49   \n",
       "296630  what was the significance of the battle of som...   121   119   \n",
       "372672  can a person with alzheimer s disease particip...    65    69   \n",
       "187200  what is it like to live in an rv and travel in it    42    49   \n",
       "218447  what are some good questions to ask an entrepr...    97    51   \n",
       "\n",
       "        word_cnt1  word_cnt2  common  \n",
       "237544          4         11       3  \n",
       "296630         23         23      15  \n",
       "372672         10         12      10  \n",
       "187200         11         13       9  \n",
       "218447         18          9       8  "
      ]
     },
     "execution_count": 35,
     "metadata": {},
     "output_type": "execute_result"
    }
   ],
   "source": [
    "que_df['common'] = que_df.apply(common_words, axis=1)\n",
    "que_df.head()"
   ]
  },
  {
   "cell_type": "code",
   "execution_count": 36,
   "id": "2eaca0fc",
   "metadata": {},
   "outputs": [],
   "source": [
    "def total_words(row):\n",
    "  w1 = set(map(lambda words : words.strip(), row['question1'].split(\" \")))\n",
    "  w2 = set(map(lambda words : words.strip(), row['question2'].split(\" \")))\n",
    "  return (len(w1) + len(w2))"
   ]
  },
  {
   "cell_type": "code",
   "execution_count": 37,
   "id": "b4c90ebe",
   "metadata": {},
   "outputs": [],
   "source": [
    "que_df['total_w'] = que_df.apply(total_words, axis=1)"
   ]
  },
  {
   "cell_type": "code",
   "execution_count": 38,
   "id": "e645862f",
   "metadata": {},
   "outputs": [],
   "source": [
    "que_df['word_share'] = round(que_df['common'] / que_df['total_w'], 2)"
   ]
  },
  {
   "cell_type": "code",
   "execution_count": 39,
   "id": "931f82bf",
   "metadata": {},
   "outputs": [
    {
     "name": "stderr",
     "output_type": "stream",
     "text": [
      "[nltk_data] Downloading package stopwords to\n",
      "[nltk_data]     C:\\Users\\Tarun\\AppData\\Roaming\\nltk_data...\n",
      "[nltk_data]   Package stopwords is already up-to-date!\n"
     ]
    },
    {
     "data": {
      "text/plain": [
       "True"
      ]
     },
     "execution_count": 39,
     "metadata": {},
     "output_type": "execute_result"
    }
   ],
   "source": [
    "import nltk\n",
    "from nltk.corpus import stopwords\n",
    "nltk.download('stopwords')"
   ]
  },
  {
   "cell_type": "code",
   "execution_count": 40,
   "id": "0f6ff8a7",
   "metadata": {},
   "outputs": [
    {
     "name": "stdout",
     "output_type": "stream",
     "text": [
      "Requirement already satisfied: distance in c:\\python\\python37\\lib\\site-packages (0.1.3)\n"
     ]
    }
   ],
   "source": [
    "!pip install distance"
   ]
  },
  {
   "cell_type": "code",
   "execution_count": 41,
   "id": "9d411837",
   "metadata": {},
   "outputs": [],
   "source": [
    "import distance\n",
    "def fetch_features(row):\n",
    "  q1 = row['question1']\n",
    "  q2 = row['question2']\n",
    "\n",
    "  SAFE_DIV = 0.00001\n",
    "  STOP_WORDS = stopwords.words('english')\n",
    "  token_features = [0.0] * 11\n",
    "\n",
    "  q1_tokens = q1.split()\n",
    "  q2_tokens = q2.split()\n",
    "\n",
    "  if len(q1_tokens) == 0 or len(q2_tokens) == 0:\n",
    "    return token_features\n",
    "\n",
    "  q1_words = set([word for word in q1_tokens if word not in STOP_WORDS])\n",
    "  q2_words = set([word for word in q2_tokens if word not in STOP_WORDS])\n",
    "\n",
    "  q1_stop = set([word for word in q1_tokens if word in STOP_WORDS])\n",
    "  q2_stop = set([word for word in q2_tokens if word in STOP_WORDS])\n",
    "\n",
    "  common_word_cnt = len(q1_words.intersection(q2_words))\n",
    "  common_stop_cnt = len(q1_stop.intersection(q2_stop))\n",
    "  common_token_cnt = len(set(q1_tokens).intersection(set(q2_tokens)))\n",
    "\n",
    "  token_features[0] = round(common_word_cnt / (min(len(q1_words), len(q2_words)) + SAFE_DIV), 2)\n",
    "  token_features[1] = round(common_word_cnt / (max(len(q1_words), len(q2_words)) + SAFE_DIV), 2)\n",
    "\n",
    "  token_features[2] = round(common_stop_cnt / (min(len(q1_stop), len(q2_stop)) + SAFE_DIV), 2)\n",
    "  token_features[3] = round(common_stop_cnt / (max(len(q1_stop), len(q2_stop)) + SAFE_DIV), 2)\n",
    "\n",
    "  token_features[4] = round(common_token_cnt / (min(len(q1_tokens), len(q2_tokens)) + SAFE_DIV), 2)\n",
    "  token_features[5] = round(common_token_cnt / (max(len(q1_tokens), len(q2_tokens)) + SAFE_DIV), 2)\n",
    "\n",
    "  token_features[6] = int(q1_tokens[-1] == q2_tokens[-1])\n",
    "  token_features[7] = int(q1_tokens[0] == q2_tokens[0])\n",
    "\n",
    "  token_features[8] = abs(len(q1_tokens) - len(q2_tokens))\n",
    "  token_features[9] = round((len(q1_tokens) - len(q2_tokens)) / 2, 2)\n",
    "\n",
    "  strs = list(distance.lcsubstrings(q1, q2))\n",
    "  token_features[10] = round(len(strs[0]) / (min(len(q1), len(q2)) + 1), 2)\n",
    "  return token_features"
   ]
  },
  {
   "cell_type": "code",
   "execution_count": 42,
   "id": "afc5816d",
   "metadata": {},
   "outputs": [],
   "source": [
    "token_features = que_df.apply(fetch_features, axis=1)"
   ]
  },
  {
   "cell_type": "code",
   "execution_count": 43,
   "id": "5a804be4",
   "metadata": {},
   "outputs": [],
   "source": [
    "que_df['cwc_min']       = list(map(lambda x: x[0], token_features))\n",
    "que_df['cwc_max']       = list(map(lambda x: x[1], token_features))\n",
    "que_df['csc_min']       = list(map(lambda x: x[2], token_features))\n",
    "que_df['csc_max']       = list(map(lambda x: x[3], token_features))\n",
    "que_df['ctc_min']       = list(map(lambda x: x[4], token_features))\n",
    "que_df['ctc_max']       = list(map(lambda x: x[5], token_features))\n",
    "que_df['last_word_eq']  = list(map(lambda x: x[6], token_features))\n",
    "que_df['first_word_eq'] = list(map(lambda x: x[7], token_features))\n",
    "que_df['abs_len_diff']  = list(map(lambda x: x[8], token_features))\n",
    "que_df['mean_len']      = list(map(lambda x: x[9], token_features))\n",
    "que_df['lcs_ratio']     = list(map(lambda x:x[10], token_features))"
   ]
  },
  {
   "cell_type": "code",
   "execution_count": 44,
   "id": "dd86db18",
   "metadata": {},
   "outputs": [
    {
     "name": "stdout",
     "output_type": "stream",
     "text": [
      "Requirement already satisfied: fuzzywuzzy in c:\\python\\python37\\lib\\site-packages (0.18.0)\n"
     ]
    }
   ],
   "source": [
    "!pip install fuzzywuzzy"
   ]
  },
  {
   "cell_type": "code",
   "execution_count": 45,
   "id": "d39a194a",
   "metadata": {},
   "outputs": [
    {
     "name": "stderr",
     "output_type": "stream",
     "text": [
      "c:\\python\\python37\\lib\\site-packages\\fuzzywuzzy\\fuzz.py:11: UserWarning: Using slow pure-python SequenceMatcher. Install python-Levenshtein to remove this warning\n",
      "  warnings.warn('Using slow pure-python SequenceMatcher. Install python-Levenshtein to remove this warning')\n"
     ]
    }
   ],
   "source": [
    "from fuzzywuzzy import fuzz"
   ]
  },
  {
   "cell_type": "code",
   "execution_count": 46,
   "id": "0864d5b7",
   "metadata": {},
   "outputs": [],
   "source": [
    "def fetch_fuzzy_features(row):\n",
    "  q1 = row['question1']\n",
    "  q2 = row['question2']\n",
    "  \n",
    "  fuzzy_features = [0.0]*4\n",
    "  \n",
    "  # fuzz_ratio\n",
    "  fuzzy_features[0] = fuzz.QRatio(q1, q2)\n",
    "\n",
    "  # fuzz_partial_ratio\n",
    "  fuzzy_features[1] = fuzz.partial_ratio(q1, q2)\n",
    "\n",
    "  # token_sort_ratio\n",
    "  fuzzy_features[2] = fuzz.token_sort_ratio(q1, q2)\n",
    "\n",
    "  # token_set_ratio\n",
    "  fuzzy_features[3] = fuzz.token_set_ratio(q1, q2)\n",
    "\n",
    "  return fuzzy_features"
   ]
  },
  {
   "cell_type": "code",
   "execution_count": 47,
   "id": "5a5cb8dc",
   "metadata": {},
   "outputs": [],
   "source": [
    "fuzzy_features = que_df.apply(fetch_fuzzy_features, axis=1)\n"
   ]
  },
  {
   "cell_type": "code",
   "execution_count": 48,
   "id": "d941519c",
   "metadata": {},
   "outputs": [],
   "source": [
    "que_df['fuzz_ratio'] = list(map(lambda x: x[0], fuzzy_features))\n",
    "que_df['fuzz_partial_ratio'] = list(map(lambda x: x[1], fuzzy_features))\n",
    "que_df['token_sort_ratio'] = list(map(lambda x: x[2], fuzzy_features))\n",
    "que_df['token_set_ratio'] = list(map(lambda x: x[3], fuzzy_features))"
   ]
  },
  {
   "cell_type": "code",
   "execution_count": 49,
   "id": "cf06ff18",
   "metadata": {},
   "outputs": [],
   "source": [
    "from sklearn.feature_extraction.text import CountVectorizer\n",
    "# merge texts\n",
    "questions = list(que_df['question1']) + list(que_df['question2'])\n",
    "\n",
    "cv = CountVectorizer(max_features=3000)\n",
    "q1_arr, q2_arr = np.vsplit(cv.fit_transform(questions).toarray(),2)"
   ]
  },
  {
   "cell_type": "code",
   "execution_count": 50,
   "id": "c497ef1b",
   "metadata": {},
   "outputs": [
    {
     "data": {
      "text/plain": [
       "(30000, 6000)"
      ]
     },
     "execution_count": 50,
     "metadata": {},
     "output_type": "execute_result"
    }
   ],
   "source": [
    "temp_df1 = pd.DataFrame(q1_arr, index= que_df.index)\n",
    "temp_df2 = pd.DataFrame(q2_arr, index= que_df.index)\n",
    "temp_df = pd.concat([temp_df1, temp_df2], axis=1)\n",
    "temp_df.shape"
   ]
  },
  {
   "cell_type": "code",
   "execution_count": 51,
   "id": "07393294",
   "metadata": {},
   "outputs": [],
   "source": [
    "final_df = que_df.drop(columns=['question1','question2'])"
   ]
  },
  {
   "cell_type": "code",
   "execution_count": 52,
   "id": "d13d2821",
   "metadata": {},
   "outputs": [],
   "source": [
    "final_df = pd.concat([final_df, temp_df], axis=1)"
   ]
  },
  {
   "cell_type": "code",
   "execution_count": 53,
   "id": "2eeb55e3",
   "metadata": {},
   "outputs": [
    {
     "data": {
      "text/plain": [
       "(30000, 6022)"
      ]
     },
     "execution_count": 53,
     "metadata": {},
     "output_type": "execute_result"
    }
   ],
   "source": [
    "final_df.shape"
   ]
  },
  {
   "cell_type": "code",
   "execution_count": 54,
   "id": "aca3da06",
   "metadata": {},
   "outputs": [],
   "source": [
    "from sklearn.model_selection import train_test_split\n",
    "X_train,X_test,y_train,y_test = train_test_split(final_df, y ,test_size=0.2)"
   ]
  },
  {
   "cell_type": "code",
   "execution_count": 55,
   "id": "ef3b5afa",
   "metadata": {},
   "outputs": [
    {
     "name": "stderr",
     "output_type": "stream",
     "text": [
      "c:\\python\\python37\\lib\\site-packages\\sklearn\\utils\\validation.py:1692: FutureWarning: Feature names only support names that are all strings. Got feature names with dtypes: ['int', 'str']. An error will be raised in 1.2.\n",
      "  FutureWarning,\n",
      "c:\\python\\python37\\lib\\site-packages\\sklearn\\utils\\validation.py:1692: FutureWarning: Feature names only support names that are all strings. Got feature names with dtypes: ['int', 'str']. An error will be raised in 1.2.\n",
      "  FutureWarning,\n"
     ]
    },
    {
     "data": {
      "text/plain": [
       "0.7925"
      ]
     },
     "execution_count": 55,
     "metadata": {},
     "output_type": "execute_result"
    }
   ],
   "source": [
    "from sklearn.ensemble import RandomForestClassifier\n",
    "from sklearn.metrics import accuracy_score\n",
    "rf = RandomForestClassifier()\n",
    "rf.fit(X_train,y_train)\n",
    "y_pred = rf.predict(X_test)\n",
    "accuracy_score(y_test,y_pred)"
   ]
  },
  {
   "cell_type": "code",
   "execution_count": 56,
   "id": "d5fbf9bb",
   "metadata": {},
   "outputs": [],
   "source": [
    "def test_common_words(q1, q2):\n",
    "  w1 = set(map(lambda words : words.lower().strip(), q1.split(\" \")))\n",
    "  w2 = set(map(lambda words : words.lower().strip(), q2.split(\" \")))\n",
    "  return len(w1 & w2)"
   ]
  },
  {
   "cell_type": "code",
   "execution_count": 57,
   "id": "6bd4b294",
   "metadata": {},
   "outputs": [],
   "source": [
    "def test_total_words(q1, q2):\n",
    "  w1 = set(map(lambda words : words.strip(), q1.split(\" \")))\n",
    "  w2 = set(map(lambda words : words.strip(), q2.split(\" \")))\n",
    "  return (len(w1) + len(w2))"
   ]
  },
  {
   "cell_type": "code",
   "execution_count": 58,
   "id": "6326a701",
   "metadata": {},
   "outputs": [],
   "source": [
    "def fetch_test_features(q1, q2):\n",
    "  SAFE_DIV = 0.00001\n",
    "  STOP_WORDS = stopwords.words('english')\n",
    "  token_features = [0.0] * 11\n",
    "\n",
    "  q1_tokens = q1.split()\n",
    "  q2_tokens = q2.split()\n",
    "\n",
    "  if len(q1_tokens) == 0 or len(q2_tokens) == 0:\n",
    "    return token_features\n",
    "\n",
    "  q1_words = set([word for word in q1_tokens if word not in STOP_WORDS])\n",
    "  q2_words = set([word for word in q2_tokens if word not in STOP_WORDS])\n",
    "\n",
    "  q1_stop = set([word for word in q1_tokens if word in STOP_WORDS])\n",
    "  q2_stop = set([word for word in q2_tokens if word in STOP_WORDS])\n",
    "\n",
    "  common_word_cnt = len(q1_words.intersection(q2_words))\n",
    "  common_stop_cnt = len(q1_stop.intersection(q2_stop))\n",
    "  common_token_cnt = len(set(q1_tokens).intersection(set(q2_tokens)))\n",
    "\n",
    "  token_features[0] = round(common_word_cnt / (min(len(q1_words), len(q2_words)) + SAFE_DIV), 2)\n",
    "  token_features[1] = round(common_word_cnt / (max(len(q1_words), len(q2_words)) + SAFE_DIV), 2)\n",
    "\n",
    "  token_features[2] = round(common_stop_cnt / (min(len(q1_stop), len(q2_stop)) + SAFE_DIV), 2)\n",
    "  token_features[3] = round(common_stop_cnt / (max(len(q1_stop), len(q2_stop)) + SAFE_DIV), 2)\n",
    "\n",
    "  token_features[4] = round(common_token_cnt / (min(len(q1_tokens), len(q2_tokens)) + SAFE_DIV), 2)\n",
    "  token_features[5] = round(common_token_cnt / (max(len(q1_tokens), len(q2_tokens)) + SAFE_DIV), 2)\n",
    "\n",
    "  token_features[6] = int(q1_tokens[-1] == q2_tokens[-1])\n",
    "  token_features[7] = int(q1_tokens[0] == q2_tokens[0])\n",
    "\n",
    "  token_features[8] = abs(len(q1_tokens) - len(q2_tokens))\n",
    "  token_features[9] = round((len(q1_tokens) - len(q2_tokens)) / 2, 2)\n",
    "\n",
    "  strs = list(distance.lcsubstrings(q1, q2))\n",
    "  token_features[10] = round(len(strs[0]) / (min(len(q1), len(q2)) + 1), 2)\n",
    "  return token_features"
   ]
  },
  {
   "cell_type": "code",
   "execution_count": 59,
   "id": "231cadb2",
   "metadata": {},
   "outputs": [],
   "source": [
    "def fetch_test_fuzzy_features(q1, q2):  \n",
    "  fuzzy_features = [0.0]*4\n",
    "  \n",
    "  # fuzz_ratio\n",
    "  fuzzy_features[0] = fuzz.QRatio(q1, q2)\n",
    "\n",
    "  # fuzz_partial_ratio\n",
    "  fuzzy_features[1] = fuzz.partial_ratio(q1, q2)\n",
    "\n",
    "  # token_sort_ratio\n",
    "  fuzzy_features[2] = fuzz.token_sort_ratio(q1, q2)\n",
    "\n",
    "  # token_set_ratio\n",
    "  fuzzy_features[3] = fuzz.token_set_ratio(q1, q2)\n",
    "\n",
    "  return fuzzy_features"
   ]
  },
  {
   "cell_type": "code",
   "execution_count": 60,
   "id": "d7b9b1b9",
   "metadata": {},
   "outputs": [],
   "source": [
    "def query_point_creator(q1, q2):\n",
    "  input_query = []\n",
    "  q1 = preprocess(q1)\n",
    "  q2 = preprocess(q2)\n",
    "\n",
    "  input_query.append(len(q1))\n",
    "  input_query.append(len(q2))\n",
    "\n",
    "  input_query.append(len(q1.split(\" \")))\n",
    "  input_query.append(len(q2.split(\" \")))\n",
    "\n",
    "  input_query.append(test_common_words(q1, q2))\n",
    "  input_query.append(test_total_words(q1, q2))\n",
    "\n",
    "  input_query.append(round(input_query[4] / input_query[5], 2))\n",
    "  \n",
    "  token_features = fetch_test_features(q1, q2)\n",
    "  input_query.extend(token_features)\n",
    "\n",
    "  fuzzy_features = fetch_test_fuzzy_features(q1, q2)\n",
    "  input_query.extend(fuzzy_features)\n",
    "\n",
    "  q1_arr = cv.transform([q1]).toarray()\n",
    "  q2_arr = cv.transform([q2]).toarray()\n",
    "\n",
    "\n",
    "  return np.hstack((np.array(input_query).reshape(1, 22), q1_arr, q2_arr))"
   ]
  },
  {
   "cell_type": "code",
   "execution_count": 64,
   "id": "0fd330fd",
   "metadata": {},
   "outputs": [
    {
     "data": {
      "text/plain": [
       "(1, 6022)"
      ]
     },
     "execution_count": 64,
     "metadata": {},
     "output_type": "execute_result"
    }
   ],
   "source": [
    "result = query_point_creator(\"who is the prime minister of India?\", \"who is the current prime minister of Italy?\")\n",
    "result.shape"
   ]
  },
  {
   "cell_type": "code",
   "execution_count": 66,
   "id": "1eb83a94",
   "metadata": {},
   "outputs": [
    {
     "data": {
      "text/plain": [
       "1"
      ]
     },
     "execution_count": 66,
     "metadata": {},
     "output_type": "execute_result"
    }
   ],
   "source": [
    "rf.predict(query_point_creator(\"who is the prime minister of India?\", \"who is the current prime minister of India?\"))[0]"
   ]
  },
  {
   "cell_type": "code",
   "execution_count": 67,
   "id": "866347b1",
   "metadata": {},
   "outputs": [],
   "source": [
    "import pickle\n",
    "pickle.dump(rf, open('model.pkl', 'wb'))\n",
    "pickle.dump(cv, open('cv.pkl', 'wb'))"
   ]
  },
  {
   "cell_type": "code",
   "execution_count": null,
   "id": "3b66e699",
   "metadata": {},
   "outputs": [],
   "source": []
  }
 ],
 "metadata": {
  "kernelspec": {
   "display_name": "Python 3 (ipykernel)",
   "language": "python",
   "name": "python3"
  },
  "language_info": {
   "codemirror_mode": {
    "name": "ipython",
    "version": 3
   },
   "file_extension": ".py",
   "mimetype": "text/x-python",
   "name": "python",
   "nbconvert_exporter": "python",
   "pygments_lexer": "ipython3",
   "version": "3.7.9"
  }
 },
 "nbformat": 4,
 "nbformat_minor": 5
}
